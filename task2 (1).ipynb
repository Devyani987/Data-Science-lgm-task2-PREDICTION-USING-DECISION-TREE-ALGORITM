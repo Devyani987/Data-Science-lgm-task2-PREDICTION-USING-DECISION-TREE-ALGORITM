{
 "cells": [
  {
   "cell_type": "markdown",
   "id": "b997b93d",
   "metadata": {},
   "source": [
    "# LETS GROW MORE DATA SCIENCE INTERNSHIP BEGINNER LEVEL TASK\n",
    "LGMVIP (March - 2022)\n",
    "\n",
    "BEGINNER LEVEL TASK\n",
    "\n",
    "TASK 2 - PREDICTION USING DECISION TREE ALGORITM (Second Task)\n",
    "\n",
    "AUTHOR- DEVYANI NITIN MAHAJAN"
   ]
  },
  {
   "cell_type": "markdown",
   "id": "c9035a2f",
   "metadata": {},
   "source": [
    "# 1) Importing Essential Libraries and Reading file"
   ]
  },
  {
   "cell_type": "code",
   "execution_count": 4,
   "id": "d8ebfbbf",
   "metadata": {},
   "outputs": [
    {
     "name": "stdout",
     "output_type": "stream",
     "text": [
      "            Date    Open    High     Low    Last   Close  \\\n",
      "0     2018-09-28  234.05  235.95  230.20  233.50  233.75   \n",
      "1     2018-09-27  234.55  236.80  231.10  233.80  233.25   \n",
      "2     2018-09-26  240.00  240.00  232.50  235.00  234.25   \n",
      "3     2018-09-25  233.30  236.75  232.00  236.25  236.10   \n",
      "4     2018-09-24  233.55  239.20  230.75  234.00  233.30   \n",
      "...          ...     ...     ...     ...     ...     ...   \n",
      "2030  2010-07-27  117.60  119.50  112.00  118.80  118.65   \n",
      "2031  2010-07-26  120.10  121.00  117.10  117.10  117.60   \n",
      "2032  2010-07-23  121.80  121.95  120.25  120.35  120.65   \n",
      "2033  2010-07-22  120.30  122.00  120.25  120.75  120.90   \n",
      "2034  2010-07-21  122.10  123.00  121.05  121.10  121.55   \n",
      "\n",
      "      Total Trade Quantity  Turnover (Lacs)  \n",
      "0                  3069914          7162.35  \n",
      "1                  5082859         11859.95  \n",
      "2                  2240909          5248.60  \n",
      "3                  2349368          5503.90  \n",
      "4                  3423509          7999.55  \n",
      "...                    ...              ...  \n",
      "2030                586100           694.98  \n",
      "2031                658440           780.01  \n",
      "2032                281312           340.31  \n",
      "2033                293312           355.17  \n",
      "2034                658666           803.56  \n",
      "\n",
      "[2035 rows x 8 columns]\n"
     ]
    }
   ],
   "source": [
    "import pandas as pd\n",
    "import numpy as np\n",
    "import io\n",
    "data = pd.read_csv('https://raw.githubusercontent.com/mwitiderrick/stockprice/master/NSE-TATAGLOBAL.csv')\n",
    "print(data)"
   ]
  },
  {
   "cell_type": "code",
   "execution_count": 5,
   "id": "ca52a87a",
   "metadata": {},
   "outputs": [],
   "source": [
    "import matplotlib. pyplot as plt\n",
    "import matplotlib\n",
    "%matplotlib inline"
   ]
  },
  {
   "cell_type": "code",
   "execution_count": 6,
   "id": "c0358d0e",
   "metadata": {},
   "outputs": [],
   "source": [
    "from sklearn.preprocessing import MinMaxScaler\n",
    "from keras.layers import LSTM, Dense, Dropout\n",
    "from sklearn.model_selection import TimeSeriesSplit\n",
    "from sklearn.metrics import mean_squared_error, r2_score\n",
    "import matplotlib.dates as mandates\n",
    "from sklearn.preprocessing import MinMaxScaler\n",
    "from sklearn import linear_model\n",
    "from keras.models import Sequential\n",
    "from keras.layers import Dense\n",
    "import keras.backend as K\n",
    "from keras.callbacks import EarlyStopping\n",
    "from tensorflow.keras.optimizers import Adam\n",
    "from keras.models import load_model\n",
    "from keras.layers import LSTM\n",
    "from keras.utils.vis_utils import plot_model"
   ]
  },
  {
   "cell_type": "code",
   "execution_count": 7,
   "id": "f040fa90",
   "metadata": {},
   "outputs": [
    {
     "name": "stdout",
     "output_type": "stream",
     "text": [
      "(2035, 8)\n",
      "False\n"
     ]
    }
   ],
   "source": [
    "print(data. shape)\n",
    "\n",
    "print(data.isnull().values.any())\n"
   ]
  },
  {
   "cell_type": "code",
   "execution_count": 8,
   "id": "7fb7cc95",
   "metadata": {},
   "outputs": [
    {
     "data": {
      "text/plain": [
       "<bound method NDFrame.head of             Date    Open    High     Low    Last   Close  \\\n",
       "0     2018-09-28  234.05  235.95  230.20  233.50  233.75   \n",
       "1     2018-09-27  234.55  236.80  231.10  233.80  233.25   \n",
       "2     2018-09-26  240.00  240.00  232.50  235.00  234.25   \n",
       "3     2018-09-25  233.30  236.75  232.00  236.25  236.10   \n",
       "4     2018-09-24  233.55  239.20  230.75  234.00  233.30   \n",
       "...          ...     ...     ...     ...     ...     ...   \n",
       "2030  2010-07-27  117.60  119.50  112.00  118.80  118.65   \n",
       "2031  2010-07-26  120.10  121.00  117.10  117.10  117.60   \n",
       "2032  2010-07-23  121.80  121.95  120.25  120.35  120.65   \n",
       "2033  2010-07-22  120.30  122.00  120.25  120.75  120.90   \n",
       "2034  2010-07-21  122.10  123.00  121.05  121.10  121.55   \n",
       "\n",
       "      Total Trade Quantity  Turnover (Lacs)  \n",
       "0                  3069914          7162.35  \n",
       "1                  5082859         11859.95  \n",
       "2                  2240909          5248.60  \n",
       "3                  2349368          5503.90  \n",
       "4                  3423509          7999.55  \n",
       "...                    ...              ...  \n",
       "2030                586100           694.98  \n",
       "2031                658440           780.01  \n",
       "2032                281312           340.31  \n",
       "2033                293312           355.17  \n",
       "2034                658666           803.56  \n",
       "\n",
       "[2035 rows x 8 columns]>"
      ]
     },
     "execution_count": 8,
     "metadata": {},
     "output_type": "execute_result"
    }
   ],
   "source": [
    "data.head"
   ]
  },
  {
   "cell_type": "markdown",
   "id": "b1901a04",
   "metadata": {},
   "source": [
    "# 2] Plotting the True Adjusted Close Value "
   ]
  },
  {
   "cell_type": "code",
   "execution_count": 9,
   "id": "04ac4ded",
   "metadata": {},
   "outputs": [
    {
     "data": {
      "text/plain": [
       "<AxesSubplot:>"
      ]
     },
     "execution_count": 9,
     "metadata": {},
     "output_type": "execute_result"
    },
    {
     "data": {
      "image/png": "[encoded data removed]",
      "text/plain": [
       "<Figure size 432x288 with 1 Axes>"
      ]
     },
     "metadata": {
      "needs_background": "light"
     },
     "output_type": "display_data"
    }
   ],
   "source": [
    "data['Close'].plot()"
   ]
  },
  {
   "cell_type": "markdown",
   "id": "65ffdeeb",
   "metadata": {},
   "source": [
    "# 3] Setting the Target Variable and Selecting the Features"
   ]
  },
  {
   "cell_type": "code",
   "execution_count": 10,
   "id": "740a6ba3",
   "metadata": {},
   "outputs": [],
   "source": [
    "output_var = pd.DataFrame(data['Close'])"
   ]
  },
  {
   "cell_type": "code",
   "execution_count": 11,
   "id": "9253f600",
   "metadata": {},
   "outputs": [],
   "source": [
    "features = ['Open', 'High', 'Low', 'Turnover (Lacs)']"
   ]
  },
  {
   "cell_type": "markdown",
   "id": "a3b7498d",
   "metadata": {},
   "source": [
    "# 4]Scaling"
   ]
  },
  {
   "cell_type": "code",
   "execution_count": 13,
   "id": "6a85b214",
   "metadata": {},
   "outputs": [
    {
     "data": {
      "text/html": [
       "<div>\n",
       "<style scoped>\n",
       "    .dataframe tbody tr th:only-of-type {\n",
       "        vertical-align: middle;\n",
       "    }\n",
       "\n",
       "    .dataframe tbody tr th {\n",
       "        vertical-align: top;\n",
       "    }\n",
       "\n",
       "    .dataframe thead th {\n",
       "        text-align: right;\n",
       "    }\n",
       "</style>\n",
       "<table border=\"1\" class=\"dataframe\">\n",
       "  <thead>\n",
       "    <tr style=\"text-align: right;\">\n",
       "      <th></th>\n",
       "      <th>Open</th>\n",
       "      <th>High</th>\n",
       "      <th>Low</th>\n",
       "      <th>Turnover (Lacs)</th>\n",
       "    </tr>\n",
       "  </thead>\n",
       "  <tbody>\n",
       "    <tr>\n",
       "      <th>0</th>\n",
       "      <td>0.620235</td>\n",
       "      <td>0.622688</td>\n",
       "      <td>0.621560</td>\n",
       "      <td>0.127882</td>\n",
       "    </tr>\n",
       "    <tr>\n",
       "      <th>1</th>\n",
       "      <td>0.622263</td>\n",
       "      <td>0.626144</td>\n",
       "      <td>0.625285</td>\n",
       "      <td>0.212192</td>\n",
       "    </tr>\n",
       "    <tr>\n",
       "      <th>2</th>\n",
       "      <td>0.644363</td>\n",
       "      <td>0.639154</td>\n",
       "      <td>0.631078</td>\n",
       "      <td>0.093535</td>\n",
       "    </tr>\n",
       "    <tr>\n",
       "      <th>3</th>\n",
       "      <td>0.617194</td>\n",
       "      <td>0.625940</td>\n",
       "      <td>0.629009</td>\n",
       "      <td>0.098117</td>\n",
       "    </tr>\n",
       "    <tr>\n",
       "      <th>4</th>\n",
       "      <td>0.618208</td>\n",
       "      <td>0.635902</td>\n",
       "      <td>0.623836</td>\n",
       "      <td>0.142907</td>\n",
       "    </tr>\n",
       "  </tbody>\n",
       "</table>\n",
       "</div>"
      ],
      "text/plain": [
       "       Open      High       Low  Turnover (Lacs)\n",
       "0  0.620235  0.622688  0.621560         0.127882\n",
       "1  0.622263  0.626144  0.625285         0.212192\n",
       "2  0.644363  0.639154  0.631078         0.093535\n",
       "3  0.617194  0.625940  0.629009         0.098117\n",
       "4  0.618208  0.635902  0.623836         0.142907"
      ]
     },
     "execution_count": 13,
     "metadata": {},
     "output_type": "execute_result"
    }
   ],
   "source": [
    "scaler = MinMaxScaler()\n",
    "feature_transform = scaler.fit_transform(data[features])\n",
    "feature_transform= pd.DataFrame(columns=features, data=feature_transform, index=data.index)\n",
    "feature_transform.head()"
   ]
  },
  {
   "cell_type": "markdown",
   "id": "6f733234",
   "metadata": {},
   "source": [
    "# 5] Training and Testing Data"
   ]
  },
  {
   "cell_type": "code",
   "execution_count": 14,
   "id": "bead3db6",
   "metadata": {},
   "outputs": [],
   "source": [
    "timesplit= TimeSeriesSplit(n_splits=10)\n",
    "for train_index, test_index in timesplit.split(feature_transform):\n",
    "        X_train, X_test = feature_transform[:len(train_index)], feature_transform[len(train_index): (len(train_index)+len(test_index))]\n",
    "        y_train, y_test = output_var[:len(train_index)].values.ravel(), output_var[len(train_index): (len(train_index)+len(test_index))].values.ravel()"
   ]
  },
  {
   "cell_type": "code",
   "execution_count": 15,
   "id": "e1caf639",
   "metadata": {},
   "outputs": [],
   "source": [
    "trainX =np.array(X_train)\n",
    "testX =np.array(X_test)\n",
    "X_train = trainX.reshape(X_train.shape[0], 1, X_train.shape[1])\n",
    "X_test = testX.reshape(X_test.shape[0], 1, X_test.shape[1])"
   ]
  },
  {
   "cell_type": "markdown",
   "id": "0adb4d0f",
   "metadata": {},
   "source": [
    "# 6] training the model"
   ]
  },
  {
   "cell_type": "code",
   "execution_count": 21,
   "id": "2e5237af",
   "metadata": {},
   "outputs": [
    {
     "name": "stdout",
     "output_type": "stream",
     "text": [
      "Epoch 1/100\n",
      "232/232 [==============================] - 1s 1ms/step - loss: 25837.7402\n",
      "Epoch 2/100\n",
      "232/232 [==============================] - 0s 1ms/step - loss: 25315.6973\n",
      "Epoch 3/100\n",
      "232/232 [==============================] - 0s 1ms/step - loss: 23728.7637\n",
      "Epoch 4/100\n",
      "232/232 [==============================] - 0s 1ms/step - loss: 20947.3164\n",
      "Epoch 5/100\n",
      "232/232 [==============================] - 0s 1ms/step - loss: 17457.1055\n",
      "Epoch 6/100\n",
      "232/232 [==============================] - 0s 1ms/step - loss: 13790.8955\n",
      "Epoch 7/100\n",
      "232/232 [==============================] - 0s 1ms/step - loss: 10322.0039\n",
      "Epoch 8/100\n",
      "232/232 [==============================] - 0s 1ms/step - loss: 7288.4346\n",
      "Epoch 9/100\n",
      "232/232 [==============================] - 0s 1ms/step - loss: 4822.2588\n",
      "Epoch 10/100\n",
      "232/232 [==============================] - 0s 1ms/step - loss: 2964.9160\n",
      "Epoch 11/100\n",
      "232/232 [==============================] - 0s 1ms/step - loss: 1680.5514\n",
      "Epoch 12/100\n",
      "232/232 [==============================] - 0s 1ms/step - loss: 875.0665\n",
      "Epoch 13/100\n",
      "232/232 [==============================] - 0s 1ms/step - loss: 423.1092\n",
      "Epoch 14/100\n",
      "232/232 [==============================] - 0s 1ms/step - loss: 198.7914\n",
      "Epoch 15/100\n",
      "232/232 [==============================] - 0s 1ms/step - loss: 100.6006\n",
      "Epoch 16/100\n",
      "232/232 [==============================] - 0s 1ms/step - loss: 61.9982\n",
      "Epoch 17/100\n",
      "232/232 [==============================] - 0s 1ms/step - loss: 47.4371\n",
      "Epoch 18/100\n",
      "232/232 [==============================] - 0s 1ms/step - loss: 41.3328\n",
      "Epoch 19/100\n",
      "232/232 [==============================] - 0s 1ms/step - loss: 37.9683\n",
      "Epoch 20/100\n",
      "232/232 [==============================] - 0s 1ms/step - loss: 35.5022\n",
      "Epoch 21/100\n",
      "232/232 [==============================] - 0s 1ms/step - loss: 33.3643\n",
      "Epoch 22/100\n",
      "232/232 [==============================] - 0s 1ms/step - loss: 31.3720\n",
      "Epoch 23/100\n",
      "232/232 [==============================] - 0s 1ms/step - loss: 29.4721\n",
      "Epoch 24/100\n",
      "232/232 [==============================] - 0s 1ms/step - loss: 27.6607\n",
      "Epoch 25/100\n",
      "232/232 [==============================] - 0s 1ms/step - loss: 25.9590\n",
      "Epoch 26/100\n",
      "232/232 [==============================] - 0s 1ms/step - loss: 24.3654\n",
      "Epoch 27/100\n",
      "232/232 [==============================] - 0s 1ms/step - loss: 22.9208\n",
      "Epoch 28/100\n",
      "232/232 [==============================] - 0s 1ms/step - loss: 21.5894\n",
      "Epoch 29/100\n",
      "232/232 [==============================] - 0s 1ms/step - loss: 20.3981\n",
      "Epoch 30/100\n",
      "232/232 [==============================] - 0s 1ms/step - loss: 19.3244\n",
      "Epoch 31/100\n",
      "232/232 [==============================] - 0s 1ms/step - loss: 18.3580\n",
      "Epoch 32/100\n",
      "232/232 [==============================] - 0s 1ms/step - loss: 17.4830\n",
      "Epoch 33/100\n",
      "232/232 [==============================] - 0s 1ms/step - loss: 16.6805\n",
      "Epoch 34/100\n",
      "232/232 [==============================] - 0s 1ms/step - loss: 15.9361\n",
      "Epoch 35/100\n",
      "232/232 [==============================] - 0s 1ms/step - loss: 15.2370\n",
      "Epoch 36/100\n",
      "232/232 [==============================] - 0s 1ms/step - loss: 14.5757\n",
      "Epoch 37/100\n",
      "232/232 [==============================] - 0s 1ms/step - loss: 13.9450\n",
      "Epoch 38/100\n",
      "232/232 [==============================] - 0s 1ms/step - loss: 13.3423\n",
      "Epoch 39/100\n",
      "232/232 [==============================] - 0s 1ms/step - loss: 12.7637\n",
      "Epoch 40/100\n",
      "232/232 [==============================] - 0s 1ms/step - loss: 12.2068\n",
      "Epoch 41/100\n",
      "232/232 [==============================] - 0s 1ms/step - loss: 11.6708\n",
      "Epoch 42/100\n",
      "232/232 [==============================] - 0s 1ms/step - loss: 11.1547\n",
      "Epoch 43/100\n",
      "232/232 [==============================] - 0s 1ms/step - loss: 10.6580\n",
      "Epoch 44/100\n",
      "232/232 [==============================] - 0s 1ms/step - loss: 10.1805\n",
      "Epoch 45/100\n",
      "232/232 [==============================] - 0s 1ms/step - loss: 9.7231\n",
      "Epoch 46/100\n",
      "232/232 [==============================] - 0s 1ms/step - loss: 9.2827\n",
      "Epoch 47/100\n",
      "232/232 [==============================] - 0s 1ms/step - loss: 8.8648\n",
      "Epoch 48/100\n",
      "232/232 [==============================] - 0s 1ms/step - loss: 8.4654\n",
      "Epoch 49/100\n",
      "232/232 [==============================] - 0s 1ms/step - loss: 8.0861\n",
      "Epoch 50/100\n",
      "232/232 [==============================] - 0s 1ms/step - loss: 7.7282\n",
      "Epoch 51/100\n",
      "232/232 [==============================] - 0s 1ms/step - loss: 7.3912\n",
      "Epoch 52/100\n",
      "232/232 [==============================] - 0s 1ms/step - loss: 7.0755\n",
      "Epoch 53/100\n",
      "232/232 [==============================] - 0s 1ms/step - loss: 6.7797\n",
      "Epoch 54/100\n",
      "232/232 [==============================] - 0s 1ms/step - loss: 6.5059\n",
      "Epoch 55/100\n",
      "232/232 [==============================] - 0s 1000us/step - loss: 6.2523\n",
      "Epoch 56/100\n",
      "232/232 [==============================] - 0s 1ms/step - loss: 6.0192\n",
      "Epoch 57/100\n",
      "232/232 [==============================] - 0s 1ms/step - loss: 5.8062\n",
      "Epoch 58/100\n",
      "232/232 [==============================] - 0s 1000us/step - loss: 5.6128\n",
      "Epoch 59/100\n",
      "232/232 [==============================] - 0s 1ms/step - loss: 5.4384\n",
      "Epoch 60/100\n",
      "232/232 [==============================] - 0s 1ms/step - loss: 5.2823\n",
      "Epoch 61/100\n",
      "232/232 [==============================] - 0s 1ms/step - loss: 5.1438\n",
      "Epoch 62/100\n",
      "232/232 [==============================] - 0s 1ms/step - loss: 5.0216\n",
      "Epoch 63/100\n",
      "232/232 [==============================] - 0s 1ms/step - loss: 4.9153\n",
      "Epoch 64/100\n",
      "232/232 [==============================] - 0s 997us/step - loss: 4.8231\n",
      "Epoch 65/100\n",
      "232/232 [==============================] - 0s 1ms/step - loss: 4.7442\n",
      "Epoch 66/100\n",
      "232/232 [==============================] - 0s 1ms/step - loss: 4.6772\n",
      "Epoch 67/100\n",
      "232/232 [==============================] - 0s 1ms/step - loss: 4.6206\n",
      "Epoch 68/100\n",
      "232/232 [==============================] - 0s 1ms/step - loss: 4.5732\n",
      "Epoch 69/100\n",
      "232/232 [==============================] - 0s 1ms/step - loss: 4.5336\n",
      "Epoch 70/100\n",
      "232/232 [==============================] - 0s 1ms/step - loss: 4.5005\n",
      "Epoch 71/100\n",
      "232/232 [==============================] - 0s 1ms/step - loss: 4.4729\n",
      "Epoch 72/100\n",
      "232/232 [==============================] - 0s 1ms/step - loss: 4.4493\n",
      "Epoch 73/100\n",
      "232/232 [==============================] - 0s 1ms/step - loss: 4.4298\n",
      "Epoch 74/100\n",
      "232/232 [==============================] - 0s 1ms/step - loss: 4.4124\n",
      "Epoch 75/100\n",
      "232/232 [==============================] - 0s 1ms/step - loss: 4.3978\n",
      "Epoch 76/100\n",
      "232/232 [==============================] - 0s 1ms/step - loss: 4.3842\n",
      "Epoch 77/100\n",
      "232/232 [==============================] - 0s 1ms/step - loss: 4.3722\n",
      "Epoch 78/100\n",
      "232/232 [==============================] - 0s 1ms/step - loss: 4.3612\n",
      "Epoch 79/100\n",
      "232/232 [==============================] - 0s 1ms/step - loss: 4.3509\n",
      "Epoch 80/100\n",
      "232/232 [==============================] - 0s 1ms/step - loss: 4.3413\n",
      "Epoch 81/100\n",
      "232/232 [==============================] - 0s 1ms/step - loss: 4.3322\n",
      "Epoch 82/100\n",
      "232/232 [==============================] - 0s 1ms/step - loss: 4.3234\n",
      "Epoch 83/100\n",
      "232/232 [==============================] - 0s 1ms/step - loss: 4.3151\n",
      "Epoch 84/100\n",
      "232/232 [==============================] - 0s 1ms/step - loss: 4.3069\n",
      "Epoch 85/100\n",
      "232/232 [==============================] - 0s 1ms/step - loss: 4.2991\n",
      "Epoch 86/100\n",
      "232/232 [==============================] - 0s 1ms/step - loss: 4.2914\n",
      "Epoch 87/100\n",
      "232/232 [==============================] - 0s 1ms/step - loss: 4.2839\n",
      "Epoch 88/100\n",
      "232/232 [==============================] - 0s 1ms/step - loss: 4.2765\n",
      "Epoch 89/100\n",
      "232/232 [==============================] - 0s 1ms/step - loss: 4.2692\n",
      "Epoch 90/100\n",
      "232/232 [==============================] - 0s 1ms/step - loss: 4.2621\n",
      "Epoch 91/100\n",
      "232/232 [==============================] - 0s 1ms/step - loss: 4.2549\n",
      "Epoch 92/100\n",
      "232/232 [==============================] - 0s 1ms/step - loss: 4.2479\n",
      "Epoch 93/100\n",
      "232/232 [==============================] - 0s 1ms/step - loss: 4.2410\n",
      "Epoch 94/100\n",
      "232/232 [==============================] - 0s 1ms/step - loss: 4.2343\n",
      "Epoch 95/100\n",
      "232/232 [==============================] - 0s 1ms/step - loss: 4.2272\n",
      "Epoch 96/100\n",
      "232/232 [==============================] - 0s 1ms/step - loss: 4.2204\n",
      "Epoch 97/100\n",
      "232/232 [==============================] - 0s 1ms/step - loss: 4.2137\n",
      "Epoch 98/100\n",
      "232/232 [==============================] - 0s 1ms/step - loss: 4.2070\n",
      "Epoch 99/100\n",
      "232/232 [==============================] - 0s 1ms/step - loss: 4.2005\n",
      "Epoch 100/100\n",
      "232/232 [==============================] - 0s 1ms/step - loss: 4.1936\n"
     ]
    }
   ],
   "source": [
    "history = lstm.fit(X_train, y_train, epochs=100, batch_size=8, verbose=1, shuffle=False)"
   ]
  },
  {
   "cell_type": "markdown",
   "id": "325924c2",
   "metadata": {},
   "source": [
    "# 7] LSTM PREICTION"
   ]
  },
  {
   "cell_type": "code",
   "execution_count": 22,
   "id": "4ae78f7a",
   "metadata": {},
   "outputs": [
    {
     "data": {
      "text/plain": [
       "array([[101.85533 ],\n",
       "       [102.80684 ],\n",
       "       [107.079704],\n",
       "       [107.43019 ],\n",
       "       [105.73742 ],\n",
       "       [105.17118 ],\n",
       "       [101.24136 ],\n",
       "       [ 98.70192 ],\n",
       "       [ 97.19061 ],\n",
       "       [ 97.06474 ],\n",
       "       [ 97.39317 ],\n",
       "       [ 97.95897 ],\n",
       "       [ 99.11937 ],\n",
       "       [ 98.40126 ],\n",
       "       [ 97.68754 ],\n",
       "       [ 98.16777 ],\n",
       "       [ 98.39911 ],\n",
       "       [ 98.0091  ],\n",
       "       [ 97.92946 ],\n",
       "       [ 99.45963 ],\n",
       "       [ 99.12596 ],\n",
       "       [102.36329 ],\n",
       "       [ 99.51703 ],\n",
       "       [ 95.93213 ],\n",
       "       [ 95.62384 ],\n",
       "       [ 90.676956],\n",
       "       [ 89.3329  ],\n",
       "       [ 90.58028 ],\n",
       "       [ 90.86111 ],\n",
       "       [ 90.211975],\n",
       "       [ 87.908394],\n",
       "       [ 88.55104 ],\n",
       "       [ 92.44269 ],\n",
       "       [ 95.970146],\n",
       "       [ 96.24694 ],\n",
       "       [ 95.13785 ],\n",
       "       [ 98.644005],\n",
       "       [ 97.365715],\n",
       "       [ 94.953156],\n",
       "       [ 94.76117 ],\n",
       "       [ 93.02232 ],\n",
       "       [ 89.4548  ],\n",
       "       [ 87.22667 ],\n",
       "       [ 90.66196 ],\n",
       "       [ 94.5349  ],\n",
       "       [ 96.50452 ],\n",
       "       [ 95.88928 ],\n",
       "       [ 96.122154],\n",
       "       [ 98.04275 ],\n",
       "       [ 99.82468 ],\n",
       "       [ 97.925156],\n",
       "       [103.12584 ],\n",
       "       [106.131   ],\n",
       "       [106.27706 ],\n",
       "       [104.81586 ],\n",
       "       [105.67555 ],\n",
       "       [105.68821 ],\n",
       "       [104.85723 ],\n",
       "       [105.07778 ],\n",
       "       [105.04732 ],\n",
       "       [105.47913 ],\n",
       "       [103.1595  ],\n",
       "       [102.14013 ],\n",
       "       [103.312256],\n",
       "       [106.362656],\n",
       "       [110.08972 ],\n",
       "       [111.478355],\n",
       "       [112.13563 ],\n",
       "       [112.09355 ],\n",
       "       [109.2443  ],\n",
       "       [107.672165],\n",
       "       [108.85112 ],\n",
       "       [109.49415 ],\n",
       "       [109.36401 ],\n",
       "       [111.437164],\n",
       "       [112.231445],\n",
       "       [112.85957 ],\n",
       "       [114.74457 ],\n",
       "       [115.90146 ],\n",
       "       [114.2808  ],\n",
       "       [113.729004],\n",
       "       [114.19566 ],\n",
       "       [113.08407 ],\n",
       "       [112.363235],\n",
       "       [109.95096 ],\n",
       "       [113.278656],\n",
       "       [114.082794],\n",
       "       [114.28862 ],\n",
       "       [113.472824],\n",
       "       [114.1333  ],\n",
       "       [115.2771  ],\n",
       "       [113.56252 ],\n",
       "       [112.025406],\n",
       "       [111.81872 ],\n",
       "       [109.14854 ],\n",
       "       [113.979485],\n",
       "       [116.99572 ],\n",
       "       [116.04228 ],\n",
       "       [118.63753 ],\n",
       "       [119.50167 ],\n",
       "       [119.40544 ],\n",
       "       [122.84862 ],\n",
       "       [124.16121 ],\n",
       "       [126.43448 ],\n",
       "       [130.51073 ],\n",
       "       [128.98216 ],\n",
       "       [125.36525 ],\n",
       "       [125.09009 ],\n",
       "       [127.11046 ],\n",
       "       [123.788055],\n",
       "       [124.78253 ],\n",
       "       [124.661835],\n",
       "       [125.12549 ],\n",
       "       [124.7115  ],\n",
       "       [128.08138 ],\n",
       "       [126.99998 ],\n",
       "       [127.69528 ],\n",
       "       [128.74837 ],\n",
       "       [129.89258 ],\n",
       "       [129.17166 ],\n",
       "       [128.75368 ],\n",
       "       [130.02    ],\n",
       "       [128.36768 ],\n",
       "       [131.78339 ],\n",
       "       [133.40553 ],\n",
       "       [131.82024 ],\n",
       "       [132.59471 ],\n",
       "       [133.81538 ],\n",
       "       [133.21779 ],\n",
       "       [132.93279 ],\n",
       "       [127.69809 ],\n",
       "       [124.729324],\n",
       "       [123.61159 ],\n",
       "       [121.54021 ],\n",
       "       [120.66735 ],\n",
       "       [122.36893 ],\n",
       "       [123.37218 ],\n",
       "       [124.71698 ],\n",
       "       [124.12338 ],\n",
       "       [121.33833 ],\n",
       "       [121.3547  ],\n",
       "       [123.00066 ],\n",
       "       [122.50635 ],\n",
       "       [122.70224 ],\n",
       "       [122.77513 ],\n",
       "       [124.08084 ],\n",
       "       [125.25799 ],\n",
       "       [126.76323 ],\n",
       "       [127.328964],\n",
       "       [127.050804],\n",
       "       [124.3805  ],\n",
       "       [122.85607 ],\n",
       "       [122.08669 ],\n",
       "       [122.8179  ],\n",
       "       [121.30224 ],\n",
       "       [117.55633 ],\n",
       "       [117.66255 ],\n",
       "       [118.01725 ],\n",
       "       [117.56101 ],\n",
       "       [116.172646],\n",
       "       [117.68123 ],\n",
       "       [114.47411 ],\n",
       "       [111.54659 ],\n",
       "       [110.48546 ],\n",
       "       [109.23901 ],\n",
       "       [110.73586 ],\n",
       "       [113.45813 ],\n",
       "       [113.40381 ],\n",
       "       [112.59939 ],\n",
       "       [113.1768  ],\n",
       "       [112.256546],\n",
       "       [112.016205],\n",
       "       [112.900696],\n",
       "       [115.2121  ],\n",
       "       [117.18098 ],\n",
       "       [118.05288 ],\n",
       "       [116.80706 ],\n",
       "       [115.90158 ],\n",
       "       [115.23185 ],\n",
       "       [117.92775 ],\n",
       "       [115.57196 ],\n",
       "       [118.646866],\n",
       "       [120.554054],\n",
       "       [120.14028 ],\n",
       "       [121.331894]], dtype=float32)"
      ]
     },
     "execution_count": 22,
     "metadata": {},
     "output_type": "execute_result"
    }
   ],
   "source": [
    "y_pred= lstm.predict(X_test)\n",
    "y_pred"
   ]
  },
  {
   "cell_type": "markdown",
   "id": "e98dace3",
   "metadata": {},
   "source": [
    "# 8] True vs Predicted Adj Close Value – LSTM"
   ]
  },
  {
   "cell_type": "code",
   "execution_count": 23,
   "id": "0d919fbc",
   "metadata": {},
   "outputs": [
    {
     "data": {
      "image/png": "[encoded data removed]",
      "text/plain": [
       "<Figure size 432x288 with 1 Axes>"
      ]
     },
     "metadata": {
      "needs_background": "light"
     },
     "output_type": "display_data"
    }
   ],
   "source": [
    "plt.plot(y_test, label='True Value')\n",
    "plt.plot(y_pred, label='LSTM Value')\n",
    "plt.title('Prediction by LSTM')\n",
    "plt.xlabel('Time Scale')\n",
    "plt.ylabel('Scaled Rupees')\n",
    "plt.legend()\n",
    "plt.show()\n"
   ]
  },
  {
   "cell_type": "code",
   "execution_count": null,
   "id": "101f3170",
   "metadata": {},
   "outputs": [],
   "source": []
  }
 ],
 "metadata": {
  "kernelspec": {
   "display_name": "Python 3",
   "language": "python",
   "name": "python3"
  },
  "language_info": {
   "codemirror_mode": {
    "name": "ipython",
    "version": 3
   },
   "file_extension": ".py",
   "mimetype": "text/x-python",
   "name": "python",
   "nbconvert_exporter": "python",
   "pygments_lexer": "ipython3",
   "version": "3.8.8"
  }
 },
 "nbformat": 4,
 "nbformat_minor": 5
}
